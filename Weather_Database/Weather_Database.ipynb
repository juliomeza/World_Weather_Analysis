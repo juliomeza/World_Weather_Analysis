{
 "cells": [
  {
   "cell_type": "code",
   "execution_count": 9,
   "id": "c2144842",
   "metadata": {},
   "outputs": [],
   "source": [
    "import pandas as pd\n",
    "import numpy as np\n",
    "import requests\n",
    "\n",
    "from citipy import citipy\n",
    "\n",
    "from config import weather_api_key\n",
    "from config import g_key\n",
    "\n",
    "import time\n",
    "from datetime import datetime"
   ]
  },
  {
   "cell_type": "markdown",
   "id": "2d28778d",
   "metadata": {},
   "source": [
    "## Deliverable 1: Retrieve Weather Data"
   ]
  },
  {
   "cell_type": "code",
   "execution_count": 10,
   "id": "b82ca615",
   "metadata": {},
   "outputs": [],
   "source": [
    "# Create a new set of 2,000 random latitudes and longitudes\n",
    "lati = np.random.uniform(-90, 90, size=2000)\n",
    "longi = np.random.uniform(-180, 180, size=2000)\n",
    "\n",
    "# Combine arrays into a list of tupples\n",
    "lati_longi = zip(lati, longi)"
   ]
  },
  {
   "cell_type": "code",
   "execution_count": 11,
   "id": "519c026f",
   "metadata": {},
   "outputs": [],
   "source": [
    "# Unzip the lati_longi (this can be run only once)\n",
    "coordinates = list(lati_longi)"
   ]
  },
  {
   "cell_type": "code",
   "execution_count": 12,
   "id": "fbbcfbe6",
   "metadata": {},
   "outputs": [
    {
     "data": {
      "text/plain": [
       "770"
      ]
     },
     "execution_count": 12,
     "metadata": {},
     "output_type": "execute_result"
    }
   ],
   "source": [
    "# Cities list\n",
    "cities = []\n",
    "for i in coordinates:\n",
    "    city = citipy.nearest_city(i[0], i[1])\n",
    "    if city.city_name not in cities:\n",
    "        cities.append(city.city_name)\n",
    "len(cities)"
   ]
  },
  {
   "cell_type": "code",
   "execution_count": 16,
   "id": "a65a90c1",
   "metadata": {},
   "outputs": [
    {
     "name": "stdout",
     "output_type": "stream",
     "text": [
      "City belushya guba not found\n"
     ]
    }
   ],
   "source": [
    "# Retrieve information from the API OpenWeatherMap:\n",
    "\n",
    "url = f'https://api.openweathermap.org/data/2.5/weather?'\n",
    "cities_20 = cities[0:20]\n",
    "\n",
    "weather_data = []\n",
    "for i, city in enumerate(cities):\n",
    "    response = requests.get(f'{url}q={city.replace(\" \", \"+\")}&appid={weather_api_key}&units=imperial').json()\n",
    "\n",
    "    try:\n",
    "        weather_data.append({'City': response['name'],\n",
    "                             'Country': response['sys']['country'],\n",
    "                             'Lat': response['coord']['lat'],\n",
    "                             'Lng': response['coord']['lon'],\n",
    "                             'Max Temperature': response['main']['temp_max'],\n",
    "                             'Humidity': response['main']['humidity'],\n",
    "                             'Cloudiness': response['visibility'],\n",
    "                             'Wind Speed': response['wind']['speed'],\n",
    "                             'Current Description': response['weather'][0]['description']})\n",
    "    except:\n",
    "        print(f'City {city} not found')\n",
    "    \n",
    "    if (i>0) & (i%50 == 0):\n",
    "        hour = datetime.now().strftime('%H:%M:%S')\n",
    "        print(f'time: {hour} | {i} | Waiting')\n",
    "        time.sleep(60)"
   ]
  },
  {
   "cell_type": "code",
   "execution_count": 17,
   "id": "bbe907d0",
   "metadata": {},
   "outputs": [
    {
     "data": {
      "text/html": [
       "<div>\n",
       "<style scoped>\n",
       "    .dataframe tbody tr th:only-of-type {\n",
       "        vertical-align: middle;\n",
       "    }\n",
       "\n",
       "    .dataframe tbody tr th {\n",
       "        vertical-align: top;\n",
       "    }\n",
       "\n",
       "    .dataframe thead th {\n",
       "        text-align: right;\n",
       "    }\n",
       "</style>\n",
       "<table border=\"1\" class=\"dataframe\">\n",
       "  <thead>\n",
       "    <tr style=\"text-align: right;\">\n",
       "      <th></th>\n",
       "      <th>City</th>\n",
       "      <th>Country</th>\n",
       "      <th>Lat</th>\n",
       "      <th>Lng</th>\n",
       "      <th>Max Temperature</th>\n",
       "      <th>Humidity</th>\n",
       "      <th>Cloudiness</th>\n",
       "      <th>Wind Speed</th>\n",
       "      <th>Current Description</th>\n",
       "    </tr>\n",
       "  </thead>\n",
       "  <tbody>\n",
       "    <tr>\n",
       "      <th>691</th>\n",
       "      <td>Chute-aux-Outardes</td>\n",
       "      <td>CA</td>\n",
       "      <td>49.1168</td>\n",
       "      <td>-68.3990</td>\n",
       "      <td>264.14</td>\n",
       "      <td>67</td>\n",
       "      <td>10000</td>\n",
       "      <td>9.77</td>\n",
       "      <td>overcast clouds</td>\n",
       "    </tr>\n",
       "    <tr>\n",
       "      <th>692</th>\n",
       "      <td>Igrim</td>\n",
       "      <td>RU</td>\n",
       "      <td>63.1906</td>\n",
       "      <td>64.4162</td>\n",
       "      <td>257.10</td>\n",
       "      <td>97</td>\n",
       "      <td>10000</td>\n",
       "      <td>2.57</td>\n",
       "      <td>overcast clouds</td>\n",
       "    </tr>\n",
       "    <tr>\n",
       "      <th>693</th>\n",
       "      <td>La Libertad</td>\n",
       "      <td>EC</td>\n",
       "      <td>-2.2333</td>\n",
       "      <td>-80.9000</td>\n",
       "      <td>296.66</td>\n",
       "      <td>86</td>\n",
       "      <td>10000</td>\n",
       "      <td>2.76</td>\n",
       "      <td>overcast clouds</td>\n",
       "    </tr>\n",
       "    <tr>\n",
       "      <th>694</th>\n",
       "      <td>Vila</td>\n",
       "      <td>PT</td>\n",
       "      <td>42.0304</td>\n",
       "      <td>-8.1588</td>\n",
       "      <td>278.67</td>\n",
       "      <td>77</td>\n",
       "      <td>10000</td>\n",
       "      <td>2.09</td>\n",
       "      <td>clear sky</td>\n",
       "    </tr>\n",
       "    <tr>\n",
       "      <th>695</th>\n",
       "      <td>Tougan</td>\n",
       "      <td>BF</td>\n",
       "      <td>13.0667</td>\n",
       "      <td>-3.0667</td>\n",
       "      <td>294.34</td>\n",
       "      <td>17</td>\n",
       "      <td>10000</td>\n",
       "      <td>5.02</td>\n",
       "      <td>clear sky</td>\n",
       "    </tr>\n",
       "  </tbody>\n",
       "</table>\n",
       "</div>"
      ],
      "text/plain": [
       "                   City Country      Lat      Lng  Max Temperature  Humidity  \\\n",
       "691  Chute-aux-Outardes      CA  49.1168 -68.3990           264.14        67   \n",
       "692               Igrim      RU  63.1906  64.4162           257.10        97   \n",
       "693         La Libertad      EC  -2.2333 -80.9000           296.66        86   \n",
       "694                Vila      PT  42.0304  -8.1588           278.67        77   \n",
       "695              Tougan      BF  13.0667  -3.0667           294.34        17   \n",
       "\n",
       "     Cloudiness  Wind Speed Current Description  \n",
       "691       10000        9.77     overcast clouds  \n",
       "692       10000        2.57     overcast clouds  \n",
       "693       10000        2.76     overcast clouds  \n",
       "694       10000        2.09           clear sky  \n",
       "695       10000        5.02           clear sky  "
      ]
     },
     "execution_count": 17,
     "metadata": {},
     "output_type": "execute_result"
    }
   ],
   "source": [
    "# Convert data into a Data Frame\n",
    "weather_data_df = pd.DataFrame(weather_data)\n",
    "weather_data_df.tail()"
   ]
  },
  {
   "cell_type": "code",
   "execution_count": 18,
   "id": "a3bb7914",
   "metadata": {},
   "outputs": [],
   "source": [
    "weather_data_df.to_csv('WeatherPy_Database.csv')"
   ]
  },
  {
   "cell_type": "markdown",
   "id": "ed0ce022",
   "metadata": {},
   "source": [
    "# Testing"
   ]
  },
  {
   "cell_type": "code",
   "execution_count": 8,
   "id": "4bc4d645",
   "metadata": {},
   "outputs": [
    {
     "data": {
      "text/plain": [
       "50.7"
      ]
     },
     "execution_count": 8,
     "metadata": {},
     "output_type": "execute_result"
    }
   ],
   "source": [
    "url = f'https://api.openweathermap.org/data/2.5/weather?'\n",
    "\n",
    "test_city = 'London'\n",
    "response = requests.get(f'{url}q={test_city.replace(\" \", \"+\")}&appid={weather_api_key}&units=imperial').json()\n",
    "response['main']['temp_max']"
   ]
  },
  {
   "cell_type": "code",
   "execution_count": 7,
   "id": "d43b2c16",
   "metadata": {},
   "outputs": [
    {
     "data": {
      "text/plain": [
       "283.54"
      ]
     },
     "execution_count": 7,
     "metadata": {},
     "output_type": "execute_result"
    }
   ],
   "source": [
    "response['main']['temp_max']"
   ]
  },
  {
   "cell_type": "code",
   "execution_count": null,
   "id": "d3222c90",
   "metadata": {},
   "outputs": [],
   "source": []
  }
 ],
 "metadata": {
  "kernelspec": {
   "display_name": "PythonData",
   "language": "python",
   "name": "pythondata"
  },
  "language_info": {
   "codemirror_mode": {
    "name": "ipython",
    "version": 3
   },
   "file_extension": ".py",
   "mimetype": "text/x-python",
   "name": "python",
   "nbconvert_exporter": "python",
   "pygments_lexer": "ipython3",
   "version": "3.7.11"
  }
 },
 "nbformat": 4,
 "nbformat_minor": 5
}
