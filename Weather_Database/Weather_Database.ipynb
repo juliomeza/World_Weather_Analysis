{
 "cells": [
  {
   "cell_type": "code",
   "execution_count": 9,
   "id": "c2144842",
   "metadata": {},
   "outputs": [],
   "source": [
    "import pandas as pd\n",
    "import numpy as np\n",
    "import requests\n",
    "\n",
    "from citipy import citipy\n",
    "\n",
    "from config import weather_api_key\n",
    "from config import g_key\n",
    "\n",
    "import time\n",
    "from datetime import datetime"
   ]
  },
  {
   "cell_type": "markdown",
   "id": "2d28778d",
   "metadata": {},
   "source": [
    "## Deliverable 1: Retrieve Weather Data"
   ]
  },
  {
   "cell_type": "code",
   "execution_count": 10,
   "id": "b82ca615",
   "metadata": {},
   "outputs": [],
   "source": [
    "# Create a new set of 2,000 random latitudes and longitudes\n",
    "lati = np.random.uniform(-90, 90, size=2000)\n",
    "longi = np.random.uniform(-180, 180, size=2000)\n",
    "\n",
    "# Combine arrays into a list of tupples\n",
    "lati_longi = zip(lati, longi)"
   ]
  },
  {
   "cell_type": "code",
   "execution_count": 11,
   "id": "519c026f",
   "metadata": {},
   "outputs": [],
   "source": [
    "# Unzip the lati_longi (this can be run only once)\n",
    "coordinates = list(lati_longi)"
   ]
  },
  {
   "cell_type": "code",
   "execution_count": 12,
   "id": "fbbcfbe6",
   "metadata": {},
   "outputs": [
    {
     "data": {
      "text/plain": [
       "770"
      ]
     },
     "execution_count": 12,
     "metadata": {},
     "output_type": "execute_result"
    }
   ],
   "source": [
    "# Cities list\n",
    "cities = []\n",
    "for i in coordinates:\n",
    "    city = citipy.nearest_city(i[0], i[1])\n",
    "    if city.city_name not in cities:\n",
    "        cities.append(city.city_name)\n",
    "len(cities)"
   ]
  },
  {
   "cell_type": "code",
   "execution_count": 17,
   "id": "a65a90c1",
   "metadata": {},
   "outputs": [
    {
     "name": "stdout",
     "output_type": "stream",
     "text": [
      "City belushya guba not found\n",
      "City illoqqortoormiut not found\n",
      "City taolanaro not found\n",
      "City sataua not found\n",
      "time: 08:57:01 | 50 | Waiting\n",
      "City vaitupu not found\n",
      "City sentyabrskiy not found\n",
      "City attawapiskat not found\n",
      "time: 08:58:31 | 100 | Waiting\n",
      "City amderma not found\n",
      "City mys shmidta not found\n",
      "City doctor pedro p. pena not found\n",
      "time: 09:00:14 | 150 | Waiting\n",
      "City mullaitivu not found\n",
      "City bacuit not found\n",
      "City armacao dos buzios not found\n",
      "time: 09:01:47 | 200 | Waiting\n",
      "City barentsburg not found\n",
      "City one hundred mile house not found\n",
      "City burica not found\n",
      "City nizhneyansk not found\n",
      "time: 09:03:18 | 250 | Waiting\n",
      "City verdalsora not found\n",
      "City zhanatas not found\n",
      "City tumannyy not found\n",
      "City umm durman not found\n",
      "time: 09:04:48 | 300 | Waiting\n",
      "City marcona not found\n",
      "City satitoa not found\n",
      "City longlac not found\n",
      "City saleaula not found\n",
      "time: 09:06:21 | 350 | Waiting\n",
      "City tsihombe not found\n",
      "City negele not found\n",
      "City bargal not found\n",
      "City kuala krai not found\n",
      "City louisbourg not found\n",
      "City karamea not found\n",
      "time: 09:07:50 | 400 | Waiting\n",
      "City hunza not found\n",
      "City tabarqah not found\n",
      "time: 09:09:22 | 450 | Waiting\n",
      "City skagastrond not found\n",
      "City viligili not found\n",
      "City samusu not found\n",
      "City kuche not found\n",
      "time: 09:10:53 | 500 | Waiting\n",
      "City jahrom not found\n",
      "City maghama not found\n",
      "City sahrak not found\n",
      "City barawe not found\n",
      "City meyungs not found\n",
      "time: 09:12:24 | 550 | Waiting\n",
      "City warqla not found\n",
      "City linchuan not found\n",
      "City kamenskoye not found\n",
      "City jamnah not found\n",
      "City galiwinku not found\n",
      "City karaul not found\n",
      "time: 09:13:55 | 600 | Waiting\n",
      "City mrirt not found\n",
      "City grand centre not found\n",
      "City fort saint john not found\n",
      "City umzimvubu not found\n",
      "City jiddah not found\n",
      "time: 09:15:26 | 650 | Waiting\n",
      "City solovetskiy not found\n",
      "City nguiu not found\n",
      "City aflu not found\n",
      "City sedelnikovo not found\n",
      "City yuzhno-yeniseyskiy not found\n",
      "City samalaeulu not found\n",
      "time: 09:16:56 | 700 | Waiting\n",
      "City karauzyak not found\n",
      "City grand river south east not found\n",
      "time: 09:18:30 | 750 | Waiting\n"
     ]
    }
   ],
   "source": [
    "# Retrieve information from the API OpenWeatherMap:\n",
    "\n",
    "url = f'https://api.openweathermap.org/data/2.5/weather?'\n",
    "cities_20 = cities[0:20]\n",
    "\n",
    "weather_data = []\n",
    "for i, city in enumerate(cities):\n",
    "    response = requests.get(f'{url}q={city.replace(\" \", \"+\")}&appid={weather_api_key}&units=imperial').json()\n",
    "\n",
    "    try:\n",
    "        weather_data.append({'City': response['name'],\n",
    "                             'Country': response['sys']['country'],\n",
    "                             'Lat': response['coord']['lat'],\n",
    "                             'Lng': response['coord']['lon'],\n",
    "                             'Max Temperature': response['main']['temp_max'],\n",
    "                             'Humidity': response['main']['humidity'],\n",
    "                             'Cloudiness': response['visibility'],\n",
    "                             'Wind Speed': response['wind']['speed'],\n",
    "                             'Current Description': response['weather'][0]['description']})\n",
    "    except:\n",
    "        print(f'City {city} not found')\n",
    "    \n",
    "    if (i>0) & (i%50 == 0):\n",
    "        hour = datetime.now().strftime('%H:%M:%S')\n",
    "        print(f'time: {hour} | {i} | Waiting')\n",
    "        time.sleep(60)"
   ]
  },
  {
   "cell_type": "code",
   "execution_count": 18,
   "id": "bbe907d0",
   "metadata": {},
   "outputs": [
    {
     "data": {
      "text/html": [
       "<div>\n",
       "<style scoped>\n",
       "    .dataframe tbody tr th:only-of-type {\n",
       "        vertical-align: middle;\n",
       "    }\n",
       "\n",
       "    .dataframe tbody tr th {\n",
       "        vertical-align: top;\n",
       "    }\n",
       "\n",
       "    .dataframe thead th {\n",
       "        text-align: right;\n",
       "    }\n",
       "</style>\n",
       "<table border=\"1\" class=\"dataframe\">\n",
       "  <thead>\n",
       "    <tr style=\"text-align: right;\">\n",
       "      <th></th>\n",
       "      <th>City</th>\n",
       "      <th>Country</th>\n",
       "      <th>Lat</th>\n",
       "      <th>Lng</th>\n",
       "      <th>Max Temperature</th>\n",
       "      <th>Humidity</th>\n",
       "      <th>Cloudiness</th>\n",
       "      <th>Wind Speed</th>\n",
       "      <th>Current Description</th>\n",
       "    </tr>\n",
       "  </thead>\n",
       "  <tbody>\n",
       "    <tr>\n",
       "      <th>704</th>\n",
       "      <td>Trairi</td>\n",
       "      <td>BR</td>\n",
       "      <td>-3.2778</td>\n",
       "      <td>-39.2689</td>\n",
       "      <td>79.14</td>\n",
       "      <td>80</td>\n",
       "      <td>10000</td>\n",
       "      <td>5.93</td>\n",
       "      <td>light rain</td>\n",
       "    </tr>\n",
       "    <tr>\n",
       "      <th>705</th>\n",
       "      <td>Iquique</td>\n",
       "      <td>CL</td>\n",
       "      <td>-20.2208</td>\n",
       "      <td>-70.1431</td>\n",
       "      <td>71.64</td>\n",
       "      <td>67</td>\n",
       "      <td>10000</td>\n",
       "      <td>5.66</td>\n",
       "      <td>scattered clouds</td>\n",
       "    </tr>\n",
       "    <tr>\n",
       "      <th>706</th>\n",
       "      <td>Zlobin</td>\n",
       "      <td>HR</td>\n",
       "      <td>45.2924</td>\n",
       "      <td>14.6541</td>\n",
       "      <td>43.38</td>\n",
       "      <td>64</td>\n",
       "      <td>10000</td>\n",
       "      <td>3.44</td>\n",
       "      <td>broken clouds</td>\n",
       "    </tr>\n",
       "    <tr>\n",
       "      <th>707</th>\n",
       "      <td>Vestmanna</td>\n",
       "      <td>FO</td>\n",
       "      <td>62.1564</td>\n",
       "      <td>-7.1664</td>\n",
       "      <td>47.32</td>\n",
       "      <td>93</td>\n",
       "      <td>2900</td>\n",
       "      <td>19.57</td>\n",
       "      <td>drizzle</td>\n",
       "    </tr>\n",
       "    <tr>\n",
       "      <th>708</th>\n",
       "      <td>Kaputa</td>\n",
       "      <td>ZM</td>\n",
       "      <td>-8.4689</td>\n",
       "      <td>29.6619</td>\n",
       "      <td>78.76</td>\n",
       "      <td>67</td>\n",
       "      <td>10000</td>\n",
       "      <td>4.52</td>\n",
       "      <td>light rain</td>\n",
       "    </tr>\n",
       "  </tbody>\n",
       "</table>\n",
       "</div>"
      ],
      "text/plain": [
       "          City Country      Lat      Lng  Max Temperature  Humidity  \\\n",
       "704     Trairi      BR  -3.2778 -39.2689            79.14        80   \n",
       "705    Iquique      CL -20.2208 -70.1431            71.64        67   \n",
       "706     Zlobin      HR  45.2924  14.6541            43.38        64   \n",
       "707  Vestmanna      FO  62.1564  -7.1664            47.32        93   \n",
       "708     Kaputa      ZM  -8.4689  29.6619            78.76        67   \n",
       "\n",
       "     Cloudiness  Wind Speed Current Description  \n",
       "704       10000        5.93          light rain  \n",
       "705       10000        5.66    scattered clouds  \n",
       "706       10000        3.44       broken clouds  \n",
       "707        2900       19.57             drizzle  \n",
       "708       10000        4.52          light rain  "
      ]
     },
     "execution_count": 18,
     "metadata": {},
     "output_type": "execute_result"
    }
   ],
   "source": [
    "# Convert data into a Data Frame\n",
    "weather_data_df = pd.DataFrame(weather_data)\n",
    "weather_data_df.tail()"
   ]
  },
  {
   "cell_type": "code",
   "execution_count": 19,
   "id": "a3bb7914",
   "metadata": {},
   "outputs": [],
   "source": [
    "weather_data_df.to_csv('WeatherPy_Database.csv')"
   ]
  },
  {
   "cell_type": "markdown",
   "id": "ba73260e",
   "metadata": {},
   "source": [
    "# Testing"
   ]
  },
  {
   "cell_type": "code",
   "execution_count": 8,
   "id": "fa9bfe96",
   "metadata": {},
   "outputs": [
    {
     "data": {
      "text/plain": [
       "50.7"
      ]
     },
     "execution_count": 8,
     "metadata": {},
     "output_type": "execute_result"
    }
   ],
   "source": [
    "url = f'https://api.openweathermap.org/data/2.5/weather?'\n",
    "\n",
    "test_city = 'London'\n",
    "response = requests.get(f'{url}q={test_city.replace(\" \", \"+\")}&appid={weather_api_key}&units=imperial').json()\n",
    "response['main']['temp_max']"
   ]
  },
  {
   "cell_type": "code",
   "execution_count": 7,
   "id": "739b0164",
   "metadata": {},
   "outputs": [
    {
     "data": {
      "text/plain": [
       "283.54"
      ]
     },
     "execution_count": 7,
     "metadata": {},
     "output_type": "execute_result"
    }
   ],
   "source": [
    "response['main']['temp_max']"
   ]
  },
  {
   "cell_type": "code",
   "execution_count": null,
   "id": "407057da",
   "metadata": {},
   "outputs": [],
   "source": []
  }
 ],
 "metadata": {
  "kernelspec": {
   "display_name": "PythonData",
   "language": "python",
   "name": "pythondata"
  },
  "language_info": {
   "codemirror_mode": {
    "name": "ipython",
    "version": 3
   },
   "file_extension": ".py",
   "mimetype": "text/x-python",
   "name": "python",
   "nbconvert_exporter": "python",
   "pygments_lexer": "ipython3",
   "version": "3.7.11"
  }
 },
 "nbformat": 4,
 "nbformat_minor": 5
}
