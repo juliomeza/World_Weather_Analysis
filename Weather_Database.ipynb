{
 "cells": [
  {
   "cell_type": "code",
   "execution_count": 57,
   "id": "c2144842",
   "metadata": {},
   "outputs": [],
   "source": [
    "import pandas as pd\n",
    "import numpy as np\n",
    "import requests\n",
    "import matplotlib.pyplot as plt\n",
    "\n",
    "from citipy import citipy\n",
    "\n",
    "from config import weather_api_key\n",
    "from config import g_key\n",
    "\n",
    "import time"
   ]
  },
  {
   "cell_type": "markdown",
   "id": "2d28778d",
   "metadata": {},
   "source": [
    "## Deliverable 1: Retrieve Weather Data"
   ]
  },
  {
   "cell_type": "code",
   "execution_count": 70,
   "id": "b82ca615",
   "metadata": {},
   "outputs": [],
   "source": [
    "# Create a new set of 2,000 random latitudes and longitudes\n",
    "lati = np.random.uniform(-90, 90, size=2000)\n",
    "longi = np.random.uniform(-180, 180, size=2000)\n",
    "\n",
    "# Combine arrays into a list of tupples\n",
    "lati_longi = zip(lati, longi)"
   ]
  },
  {
   "cell_type": "code",
   "execution_count": 71,
   "id": "72f55828",
   "metadata": {},
   "outputs": [],
   "source": [
    "# Unzip the lati_longi (this can be run only once)\n",
    "coordinates = list(lati_longi)"
   ]
  },
  {
   "cell_type": "code",
   "execution_count": 76,
   "id": "332d6545",
   "metadata": {},
   "outputs": [
    {
     "data": {
      "text/plain": [
       "762"
      ]
     },
     "execution_count": 76,
     "metadata": {},
     "output_type": "execute_result"
    }
   ],
   "source": [
    "# Cities list\n",
    "cities = []\n",
    "for i in coordinates:\n",
    "    city = citipy.nearest_city(i[0], i[1])\n",
    "    if city.city_name not in cities:\n",
    "        cities.append(city.city_name)\n",
    "len(cities)"
   ]
  },
  {
   "cell_type": "code",
   "execution_count": 148,
   "id": "c482b95b",
   "metadata": {},
   "outputs": [],
   "source": [
    "# Retrieve information from the API OpenWeatherMap:\n",
    "\n",
    "url = f'https://api.openweathermap.org/data/2.5/weather?'\n",
    "\n",
    "weather_data_df = []\n",
    "\n",
    "cities_10 = cities[0:3]\n",
    "\n",
    "for city in cities_10:\n",
    "    response = requests.get(f'{url}q={city.replace(\" \", \"+\")}&appid={weather_api_key}').json()\n",
    "    \n",
    "    try:\n",
    "        weather_data_df.append({'City': response['name'],\n",
    "                                'Latitude': response['coord']['lat'],\n",
    "                                'Longitud': response['coord']['lon'],\n",
    "                                'Max Temperature': response['main']['temp_max'],\n",
    "                                '% Humidity': response['main']['humidity'],\n",
    "                                '% Cloudiness': response['visibility'],\n",
    "                                'Wind Speed': response['wind']['speed'],\n",
    "                                'Weather Description': response['weather'][0]['description']})\n",
    "    except:\n",
    "        print('Data not found')\n",
    "\n"
   ]
  },
  {
   "cell_type": "code",
   "execution_count": 146,
   "id": "2864c632",
   "metadata": {},
   "outputs": [
    {
     "data": {
      "text/plain": [
       "[{'City': 'Leningradskiy',\n",
       "  'Latitude': 69.3833,\n",
       "  'Longitud': 178.4167,\n",
       "  'Max Temperature': 245.49,\n",
       "  '% Humidity': 92,\n",
       "  '% Cloudiness': 10000,\n",
       "  'Wind Speed': 0.8,\n",
       "  'Weather Description': 'broken clouds'},\n",
       " {'City': 'Yichang',\n",
       "  'Latitude': 30.7144,\n",
       "  'Longitud': 111.2847,\n",
       "  'Max Temperature': 274.95,\n",
       "  '% Humidity': 99,\n",
       "  '% Cloudiness': 93,\n",
       "  'Wind Speed': 0.9,\n",
       "  'Weather Description': 'snow'},\n",
       " {'City': 'Port Blair',\n",
       "  'Latitude': 11.6667,\n",
       "  'Longitud': 92.75,\n",
       "  'Max Temperature': 300.17,\n",
       "  '% Humidity': 78,\n",
       "  '% Cloudiness': 5000,\n",
       "  'Wind Speed': 3.09,\n",
       "  'Weather Description': 'mist'}]"
      ]
     },
     "execution_count": 146,
     "metadata": {},
     "output_type": "execute_result"
    }
   ],
   "source": [
    "weather_data_df"
   ]
  },
  {
   "cell_type": "code",
   "execution_count": null,
   "id": "dec5bb99",
   "metadata": {},
   "outputs": [],
   "source": []
  },
  {
   "cell_type": "code",
   "execution_count": null,
   "id": "57cf1f45",
   "metadata": {},
   "outputs": [],
   "source": []
  },
  {
   "cell_type": "code",
   "execution_count": null,
   "id": "09f5bd15",
   "metadata": {},
   "outputs": [],
   "source": []
  },
  {
   "cell_type": "code",
   "execution_count": 68,
   "id": "94fe1fde",
   "metadata": {},
   "outputs": [
    {
     "name": "stdout",
     "output_type": "stream",
     "text": [
      "50\n",
      "100\n",
      "150\n",
      "200\n",
      "250\n"
     ]
    },
    {
     "ename": "KeyboardInterrupt",
     "evalue": "",
     "output_type": "error",
     "traceback": [
      "\u001b[1;31m---------------------------------------------------------------------------\u001b[0m",
      "\u001b[1;31mKeyboardInterrupt\u001b[0m                         Traceback (most recent call last)",
      "\u001b[1;32m~\\AppData\\Local\\Temp/ipykernel_8200/2901029297.py\u001b[0m in \u001b[0;36m<module>\u001b[1;34m\u001b[0m\n\u001b[0;32m     11\u001b[0m     \u001b[0mx\u001b[0m \u001b[1;33m=\u001b[0m \u001b[0mx\u001b[0m \u001b[1;33m+\u001b[0m \u001b[1;36m50\u001b[0m\u001b[1;33m\u001b[0m\u001b[1;33m\u001b[0m\u001b[0m\n\u001b[0;32m     12\u001b[0m     \u001b[0my\u001b[0m \u001b[1;33m=\u001b[0m \u001b[0my\u001b[0m \u001b[1;33m+\u001b[0m \u001b[1;36m50\u001b[0m\u001b[1;33m\u001b[0m\u001b[1;33m\u001b[0m\u001b[0m\n\u001b[1;32m---> 13\u001b[1;33m     \u001b[0mtime\u001b[0m\u001b[1;33m.\u001b[0m\u001b[0msleep\u001b[0m\u001b[1;33m(\u001b[0m\u001b[1;36m60\u001b[0m\u001b[1;33m)\u001b[0m\u001b[1;33m\u001b[0m\u001b[1;33m\u001b[0m\u001b[0m\n\u001b[0m",
      "\u001b[1;31mKeyboardInterrupt\u001b[0m: "
     ]
    }
   ],
   "source": [
    "x = 0\n",
    "y = 50\n",
    "\n",
    "while y <= 2000:\n",
    "    for i in coordinates[x:y]:\n",
    "        city = citipy.nearest_city(i[0], i[1])\n",
    "        cities.append(city.city_name)\n",
    "    print(len(cities))\n",
    "    x = x + 50\n",
    "    y = y + 50\n",
    "    time.sleep(60)"
   ]
  },
  {
   "cell_type": "code",
   "execution_count": null,
   "id": "6a141d82",
   "metadata": {},
   "outputs": [],
   "source": []
  },
  {
   "cell_type": "code",
   "execution_count": null,
   "id": "699032c6",
   "metadata": {},
   "outputs": [],
   "source": []
  },
  {
   "cell_type": "code",
   "execution_count": null,
   "id": "070b8751",
   "metadata": {},
   "outputs": [],
   "source": []
  },
  {
   "cell_type": "code",
   "execution_count": null,
   "id": "c89f9e11",
   "metadata": {},
   "outputs": [],
   "source": []
  },
  {
   "cell_type": "code",
   "execution_count": null,
   "id": "21dcbcdd",
   "metadata": {},
   "outputs": [],
   "source": []
  },
  {
   "cell_type": "code",
   "execution_count": null,
   "id": "870569a5",
   "metadata": {},
   "outputs": [],
   "source": []
  },
  {
   "cell_type": "code",
   "execution_count": null,
   "id": "726e96ef",
   "metadata": {},
   "outputs": [],
   "source": []
  }
 ],
 "metadata": {
  "kernelspec": {
   "display_name": "PythonData",
   "language": "python",
   "name": "pythondata"
  },
  "language_info": {
   "codemirror_mode": {
    "name": "ipython",
    "version": 3
   },
   "file_extension": ".py",
   "mimetype": "text/x-python",
   "name": "python",
   "nbconvert_exporter": "python",
   "pygments_lexer": "ipython3",
   "version": "3.7.11"
  }
 },
 "nbformat": 4,
 "nbformat_minor": 5
}
