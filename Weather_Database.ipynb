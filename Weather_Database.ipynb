{
 "cells": [
  {
   "cell_type": "code",
   "execution_count": 1,
   "id": "c2144842",
   "metadata": {},
   "outputs": [],
   "source": [
    "import pandas as pd\n",
    "import numpy as np\n",
    "import requests\n",
    "\n",
    "from citipy import citipy\n",
    "\n",
    "from config import weather_api_key\n",
    "from config import g_key\n",
    "\n",
    "import time\n",
    "from datetime import datetime"
   ]
  },
  {
   "cell_type": "markdown",
   "id": "2d28778d",
   "metadata": {},
   "source": [
    "## Deliverable 1: Retrieve Weather Data"
   ]
  },
  {
   "cell_type": "code",
   "execution_count": 2,
   "id": "b82ca615",
   "metadata": {},
   "outputs": [],
   "source": [
    "# Create a new set of 2,000 random latitudes and longitudes\n",
    "lati = np.random.uniform(-90, 90, size=2000)\n",
    "longi = np.random.uniform(-180, 180, size=2000)\n",
    "\n",
    "# Combine arrays into a list of tupples\n",
    "lati_longi = zip(lati, longi)"
   ]
  },
  {
   "cell_type": "code",
   "execution_count": 3,
   "id": "519c026f",
   "metadata": {},
   "outputs": [],
   "source": [
    "# Unzip the lati_longi (this can be run only once)\n",
    "coordinates = list(lati_longi)"
   ]
  },
  {
   "cell_type": "code",
   "execution_count": 4,
   "id": "fbbcfbe6",
   "metadata": {},
   "outputs": [
    {
     "data": {
      "text/plain": [
       "759"
      ]
     },
     "execution_count": 4,
     "metadata": {},
     "output_type": "execute_result"
    }
   ],
   "source": [
    "# Cities list\n",
    "cities = []\n",
    "for i in coordinates:\n",
    "    city = citipy.nearest_city(i[0], i[1])\n",
    "    if city.city_name not in cities:\n",
    "        cities.append(city.city_name)\n",
    "len(cities)"
   ]
  },
  {
   "cell_type": "code",
   "execution_count": null,
   "id": "a65a90c1",
   "metadata": {},
   "outputs": [
    {
     "name": "stdout",
     "output_type": "stream",
     "text": [
      "Data not found\n",
      "Data not found\n",
      "Data not found\n",
      "Data not found\n",
      "time: 19:24:48 | 50 | Waiting\n",
      "Data not found\n",
      "Data not found\n",
      "Data not found\n",
      "Data not found\n",
      "Data not found\n",
      "Data not found\n",
      "Data not found\n",
      "time: 19:26:07 | 100 | Waiting\n",
      "Data not found\n",
      "Data not found\n",
      "Data not found\n",
      "time: 19:27:26 | 150 | Waiting\n",
      "Data not found\n",
      "Data not found\n",
      "Data not found\n",
      "Data not found\n",
      "Data not found\n",
      "Data not found\n",
      "Data not found\n",
      "time: 19:28:47 | 200 | Waiting\n",
      "Data not found\n",
      "Data not found\n",
      "Data not found\n",
      "time: 19:30:12 | 250 | Waiting\n",
      "Data not found\n",
      "Data not found\n",
      "time: 19:31:35 | 300 | Waiting\n",
      "Data not found\n",
      "Data not found\n",
      "Data not found\n",
      "Data not found\n",
      "Data not found\n",
      "time: 19:32:56 | 350 | Waiting\n",
      "Data not found\n",
      "time: 19:34:19 | 400 | Waiting\n",
      "Data not found\n",
      "Data not found\n",
      "time: 19:35:39 | 450 | Waiting\n",
      "Data not found\n",
      "Data not found\n",
      "Data not found\n",
      "Data not found\n",
      "time: 19:36:59 | 500 | Waiting\n"
     ]
    }
   ],
   "source": [
    "# Retrieve information from the API OpenWeatherMap:\n",
    "\n",
    "url = f'https://api.openweathermap.org/data/2.5/weather?'\n",
    "#cities_110 = cities[0:110]\n",
    "\n",
    "weather_data = []\n",
    "for i, city in enumerate(cities):\n",
    "    response = requests.get(f'{url}q={city.replace(\" \", \"+\")}&appid={weather_api_key}').json()\n",
    "\n",
    "    try:\n",
    "        weather_data.append({'City': response['name'],\n",
    "                             'Country': response['sys']['country'],\n",
    "                             'Lat': response['coord']['lat'],\n",
    "                             'Lng': response['coord']['lon'],\n",
    "                             'Max Temperature': response['main']['temp_max'],\n",
    "                             'Humidity': response['main']['humidity'],\n",
    "                             'Cloudiness': response['visibility'],\n",
    "                             'Wind Speed': response['wind']['speed'],\n",
    "                             'Current Description': response['weather'][0]['description']})\n",
    "    except:\n",
    "        print(f'City {city} not found')\n",
    "    \n",
    "    if (i>0) & (i%50 == 0):\n",
    "        hour = datetime.now().strftime('%H:%M:%S')\n",
    "        print(f'time: {hour} | {i} | Waiting')\n",
    "        time.sleep(60)"
   ]
  },
  {
   "cell_type": "code",
   "execution_count": 15,
   "id": "cc64cf4a",
   "metadata": {},
   "outputs": [
    {
     "data": {
      "text/html": [
       "<div>\n",
       "<style scoped>\n",
       "    .dataframe tbody tr th:only-of-type {\n",
       "        vertical-align: middle;\n",
       "    }\n",
       "\n",
       "    .dataframe tbody tr th {\n",
       "        vertical-align: top;\n",
       "    }\n",
       "\n",
       "    .dataframe thead th {\n",
       "        text-align: right;\n",
       "    }\n",
       "</style>\n",
       "<table border=\"1\" class=\"dataframe\">\n",
       "  <thead>\n",
       "    <tr style=\"text-align: right;\">\n",
       "      <th></th>\n",
       "      <th>City</th>\n",
       "      <th>Country</th>\n",
       "      <th>Lat</th>\n",
       "      <th>Lng</th>\n",
       "      <th>Max Temperature</th>\n",
       "      <th>Humidity</th>\n",
       "      <th>Cloudiness</th>\n",
       "      <th>Wind Speed</th>\n",
       "      <th>Current Description</th>\n",
       "    </tr>\n",
       "  </thead>\n",
       "  <tbody>\n",
       "    <tr>\n",
       "      <th>0</th>\n",
       "      <td>Hermanus</td>\n",
       "      <td>ZA</td>\n",
       "      <td>-34.4187</td>\n",
       "      <td>19.2345</td>\n",
       "      <td>291.93</td>\n",
       "      <td>80</td>\n",
       "      <td>10000</td>\n",
       "      <td>1.31</td>\n",
       "      <td>few clouds</td>\n",
       "    </tr>\n",
       "    <tr>\n",
       "      <th>1</th>\n",
       "      <td>Chul'man</td>\n",
       "      <td>RU</td>\n",
       "      <td>56.8479</td>\n",
       "      <td>124.9104</td>\n",
       "      <td>253.20</td>\n",
       "      <td>93</td>\n",
       "      <td>747</td>\n",
       "      <td>5.53</td>\n",
       "      <td>overcast clouds</td>\n",
       "    </tr>\n",
       "    <tr>\n",
       "      <th>2</th>\n",
       "      <td>Butaritari</td>\n",
       "      <td>KI</td>\n",
       "      <td>3.0707</td>\n",
       "      <td>172.7902</td>\n",
       "      <td>301.08</td>\n",
       "      <td>77</td>\n",
       "      <td>10000</td>\n",
       "      <td>6.76</td>\n",
       "      <td>scattered clouds</td>\n",
       "    </tr>\n",
       "    <tr>\n",
       "      <th>3</th>\n",
       "      <td>Qaanaaq</td>\n",
       "      <td>GL</td>\n",
       "      <td>77.4840</td>\n",
       "      <td>-69.3632</td>\n",
       "      <td>249.95</td>\n",
       "      <td>71</td>\n",
       "      <td>10000</td>\n",
       "      <td>3.38</td>\n",
       "      <td>scattered clouds</td>\n",
       "    </tr>\n",
       "    <tr>\n",
       "      <th>4</th>\n",
       "      <td>Arraial do Cabo</td>\n",
       "      <td>BR</td>\n",
       "      <td>-22.9661</td>\n",
       "      <td>-42.0278</td>\n",
       "      <td>298.19</td>\n",
       "      <td>85</td>\n",
       "      <td>10000</td>\n",
       "      <td>10.13</td>\n",
       "      <td>clear sky</td>\n",
       "    </tr>\n",
       "    <tr>\n",
       "      <th>...</th>\n",
       "      <td>...</td>\n",
       "      <td>...</td>\n",
       "      <td>...</td>\n",
       "      <td>...</td>\n",
       "      <td>...</td>\n",
       "      <td>...</td>\n",
       "      <td>...</td>\n",
       "      <td>...</td>\n",
       "      <td>...</td>\n",
       "    </tr>\n",
       "    <tr>\n",
       "      <th>94</th>\n",
       "      <td>Moyale</td>\n",
       "      <td>KE</td>\n",
       "      <td>3.5167</td>\n",
       "      <td>39.0584</td>\n",
       "      <td>293.85</td>\n",
       "      <td>35</td>\n",
       "      <td>10000</td>\n",
       "      <td>2.70</td>\n",
       "      <td>broken clouds</td>\n",
       "    </tr>\n",
       "    <tr>\n",
       "      <th>95</th>\n",
       "      <td>Port Elizabeth</td>\n",
       "      <td>ZA</td>\n",
       "      <td>-33.9180</td>\n",
       "      <td>25.5701</td>\n",
       "      <td>292.65</td>\n",
       "      <td>89</td>\n",
       "      <td>10000</td>\n",
       "      <td>4.37</td>\n",
       "      <td>overcast clouds</td>\n",
       "    </tr>\n",
       "    <tr>\n",
       "      <th>96</th>\n",
       "      <td>Tallahassee</td>\n",
       "      <td>US</td>\n",
       "      <td>30.4383</td>\n",
       "      <td>-84.2807</td>\n",
       "      <td>286.83</td>\n",
       "      <td>74</td>\n",
       "      <td>10000</td>\n",
       "      <td>2.57</td>\n",
       "      <td>smoke</td>\n",
       "    </tr>\n",
       "    <tr>\n",
       "      <th>97</th>\n",
       "      <td>Saint George</td>\n",
       "      <td>US</td>\n",
       "      <td>37.1041</td>\n",
       "      <td>-113.5841</td>\n",
       "      <td>286.41</td>\n",
       "      <td>16</td>\n",
       "      <td>10000</td>\n",
       "      <td>1.34</td>\n",
       "      <td>clear sky</td>\n",
       "    </tr>\n",
       "    <tr>\n",
       "      <th>98</th>\n",
       "      <td>Cornwall</td>\n",
       "      <td>CA</td>\n",
       "      <td>45.0181</td>\n",
       "      <td>-74.7281</td>\n",
       "      <td>270.21</td>\n",
       "      <td>36</td>\n",
       "      <td>10000</td>\n",
       "      <td>6.69</td>\n",
       "      <td>overcast clouds</td>\n",
       "    </tr>\n",
       "  </tbody>\n",
       "</table>\n",
       "<p>99 rows × 9 columns</p>\n",
       "</div>"
      ],
      "text/plain": [
       "               City Country      Lat       Lng  Max Temperature  Humidity  \\\n",
       "0          Hermanus      ZA -34.4187   19.2345           291.93        80   \n",
       "1          Chul'man      RU  56.8479  124.9104           253.20        93   \n",
       "2        Butaritari      KI   3.0707  172.7902           301.08        77   \n",
       "3           Qaanaaq      GL  77.4840  -69.3632           249.95        71   \n",
       "4   Arraial do Cabo      BR -22.9661  -42.0278           298.19        85   \n",
       "..              ...     ...      ...       ...              ...       ...   \n",
       "94           Moyale      KE   3.5167   39.0584           293.85        35   \n",
       "95   Port Elizabeth      ZA -33.9180   25.5701           292.65        89   \n",
       "96      Tallahassee      US  30.4383  -84.2807           286.83        74   \n",
       "97     Saint George      US  37.1041 -113.5841           286.41        16   \n",
       "98         Cornwall      CA  45.0181  -74.7281           270.21        36   \n",
       "\n",
       "    Cloudiness  Wind Speed Current Description  \n",
       "0        10000        1.31          few clouds  \n",
       "1          747        5.53     overcast clouds  \n",
       "2        10000        6.76    scattered clouds  \n",
       "3        10000        3.38    scattered clouds  \n",
       "4        10000       10.13           clear sky  \n",
       "..         ...         ...                 ...  \n",
       "94       10000        2.70       broken clouds  \n",
       "95       10000        4.37     overcast clouds  \n",
       "96       10000        2.57               smoke  \n",
       "97       10000        1.34           clear sky  \n",
       "98       10000        6.69     overcast clouds  \n",
       "\n",
       "[99 rows x 9 columns]"
      ]
     },
     "execution_count": 15,
     "metadata": {},
     "output_type": "execute_result"
    }
   ],
   "source": [
    "# Convert data into a Data Frame\n",
    "weather_data_df = pd.DataFrame(weather_data)\n",
    "weather_data_df.tail()"
   ]
  },
  {
   "cell_type": "code",
   "execution_count": null,
   "id": "95184dcb",
   "metadata": {},
   "outputs": [],
   "source": [
    "weather_data_df.to_csv('WeatherPy_Database.csv')"
   ]
  },
  {
   "cell_type": "code",
   "execution_count": null,
   "id": "8fdeb37f",
   "metadata": {},
   "outputs": [],
   "source": []
  },
  {
   "cell_type": "code",
   "execution_count": 11,
   "id": "fd6d8be2",
   "metadata": {},
   "outputs": [
    {
     "data": {
      "text/plain": [
       "99"
      ]
     },
     "execution_count": 11,
     "metadata": {},
     "output_type": "execute_result"
    }
   ],
   "source": [
    "len(weather_data_df)"
   ]
  },
  {
   "cell_type": "code",
   "execution_count": 6,
   "id": "6ac32423",
   "metadata": {},
   "outputs": [],
   "source": [
    "city = 'London'\n",
    "response = requests.get(f'{url}q={city.replace(\" \", \"+\")}&appid={weather_api_key}').json()"
   ]
  },
  {
   "cell_type": "code",
   "execution_count": null,
   "id": "6557c5f4",
   "metadata": {},
   "outputs": [],
   "source": []
  },
  {
   "cell_type": "code",
   "execution_count": null,
   "id": "f6aef1db",
   "metadata": {},
   "outputs": [],
   "source": []
  },
  {
   "cell_type": "code",
   "execution_count": null,
   "id": "d23378fe",
   "metadata": {},
   "outputs": [],
   "source": []
  },
  {
   "cell_type": "code",
   "execution_count": null,
   "id": "d96e8617",
   "metadata": {},
   "outputs": [],
   "source": []
  },
  {
   "cell_type": "code",
   "execution_count": null,
   "id": "3c1652dc",
   "metadata": {},
   "outputs": [],
   "source": []
  },
  {
   "cell_type": "code",
   "execution_count": 7,
   "id": "bcd99ed6",
   "metadata": {},
   "outputs": [
    {
     "data": {
      "text/plain": [
       "{'coord': {'lon': -0.1257, 'lat': 51.5085},\n",
       " 'weather': [{'id': 803,\n",
       "   'main': 'Clouds',\n",
       "   'description': 'broken clouds',\n",
       "   'icon': '04n'}],\n",
       " 'base': 'stations',\n",
       " 'main': {'temp': 276.9,\n",
       "  'feels_like': 273.73,\n",
       "  'temp_min': 274.19,\n",
       "  'temp_max': 279.38,\n",
       "  'pressure': 1034,\n",
       "  'humidity': 87},\n",
       " 'visibility': 10000,\n",
       " 'wind': {'speed': 3.6, 'deg': 270},\n",
       " 'clouds': {'all': 57},\n",
       " 'dt': 1643327460,\n",
       " 'sys': {'type': 2,\n",
       "  'id': 2019646,\n",
       "  'country': 'GB',\n",
       "  'sunrise': 1643269577,\n",
       "  'sunset': 1643301595},\n",
       " 'timezone': 0,\n",
       " 'id': 2643743,\n",
       " 'name': 'London',\n",
       " 'cod': 200}"
      ]
     },
     "execution_count": 7,
     "metadata": {},
     "output_type": "execute_result"
    }
   ],
   "source": [
    "response"
   ]
  },
  {
   "cell_type": "code",
   "execution_count": null,
   "id": "096e8f1f",
   "metadata": {},
   "outputs": [],
   "source": []
  },
  {
   "cell_type": "code",
   "execution_count": null,
   "id": "e5a7a546",
   "metadata": {},
   "outputs": [],
   "source": []
  },
  {
   "cell_type": "code",
   "execution_count": null,
   "id": "2615f1fe",
   "metadata": {},
   "outputs": [],
   "source": []
  },
  {
   "cell_type": "code",
   "execution_count": null,
   "id": "d2f8a1f6",
   "metadata": {},
   "outputs": [],
   "source": []
  },
  {
   "cell_type": "code",
   "execution_count": null,
   "id": "efbdac3c",
   "metadata": {},
   "outputs": [],
   "source": []
  },
  {
   "cell_type": "code",
   "execution_count": null,
   "id": "cfa43e7c",
   "metadata": {},
   "outputs": [],
   "source": []
  },
  {
   "cell_type": "code",
   "execution_count": null,
   "id": "f9659964",
   "metadata": {},
   "outputs": [],
   "source": []
  }
 ],
 "metadata": {
  "kernelspec": {
   "display_name": "PythonData",
   "language": "python",
   "name": "pythondata"
  },
  "language_info": {
   "codemirror_mode": {
    "name": "ipython",
    "version": 3
   },
   "file_extension": ".py",
   "mimetype": "text/x-python",
   "name": "python",
   "nbconvert_exporter": "python",
   "pygments_lexer": "ipython3",
   "version": "3.7.11"
  }
 },
 "nbformat": 4,
 "nbformat_minor": 5
}
