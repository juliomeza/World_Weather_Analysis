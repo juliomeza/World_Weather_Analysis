{
 "cells": [
  {
   "cell_type": "code",
   "execution_count": 57,
   "id": "c2144842",
   "metadata": {},
   "outputs": [],
   "source": [
    "import pandas as pd\n",
    "import numpy as np\n",
    "import requests\n",
    "import matplotlib.pyplot as plt\n",
    "\n",
    "from citipy import citipy\n",
    "\n",
    "from config import weather_api_key\n",
    "from config import g_key\n",
    "\n",
    "import time"
   ]
  },
  {
   "cell_type": "markdown",
   "id": "2d28778d",
   "metadata": {},
   "source": [
    "## Deliverable 1: Retrieve Weather Data"
   ]
  },
  {
   "cell_type": "code",
   "execution_count": 44,
   "id": "b82ca615",
   "metadata": {},
   "outputs": [],
   "source": [
    "# Create a new set of 2,000 random latitudes and longitudes\n",
    "lati = np.random.uniform(-90, 90, size=2000)\n",
    "longi = np.random.uniform(-180, 180, size=2000)\n",
    "\n",
    "# Combine arrays into a list of tupples\n",
    "lati_longi = zip(lati, longi)"
   ]
  },
  {
   "cell_type": "code",
   "execution_count": 45,
   "id": "95c33370",
   "metadata": {},
   "outputs": [],
   "source": [
    "# Unzip the lati_longi (this can be run only once)\n",
    "coordinates = list(lati_longi)"
   ]
  },
  {
   "cell_type": "code",
   "execution_count": 58,
   "id": "ba80e6d4",
   "metadata": {},
   "outputs": [
    {
     "name": "stdout",
     "output_type": "stream",
     "text": [
      "Hey\n"
     ]
    }
   ],
   "source": [
    "time.sleep(5)\n",
    "print('Hey')"
   ]
  },
  {
   "cell_type": "code",
   "execution_count": 59,
   "id": "1c85c284",
   "metadata": {},
   "outputs": [
    {
     "data": {
      "text/plain": [
       "['mataura',\n",
       " 'chokurdakh',\n",
       " 'rikitea',\n",
       " 'yellowknife',\n",
       " 'puerto narino',\n",
       " 'kaitangata',\n",
       " 'valparaiso',\n",
       " 'hermanus',\n",
       " 'butaritari',\n",
       " 'louisbourg',\n",
       " 'mys shmidta',\n",
       " 'salinopolis',\n",
       " 'port alfred',\n",
       " 'barrow',\n",
       " 'mount isa',\n",
       " 'champerico',\n",
       " 'vaini',\n",
       " 'bredasdorp',\n",
       " 'salaga',\n",
       " 'saleaula',\n",
       " 'arona',\n",
       " 'butaritari',\n",
       " 'saint-philippe',\n",
       " 'punta arenas',\n",
       " 'tevaitoa',\n",
       " 'vardo',\n",
       " 'bria',\n",
       " 'rikitea',\n",
       " 'tunduru',\n",
       " 'kaeo',\n",
       " 'sirvintos',\n",
       " 'taoudenni',\n",
       " 'mataura',\n",
       " 'kudat',\n",
       " 'nanortalik',\n",
       " 'skalistyy',\n",
       " 'brae',\n",
       " 'henties bay',\n",
       " 'luderitz',\n",
       " 'cabo san lucas',\n",
       " 'puerto ayora',\n",
       " 'thompson',\n",
       " 'bambous virieux',\n",
       " 'rikitea',\n",
       " 'bluff',\n",
       " 'ushuaia',\n",
       " 'leningradskiy',\n",
       " 'albany',\n",
       " 'jamestown',\n",
       " 'nikolskoye']"
      ]
     },
     "execution_count": 59,
     "metadata": {},
     "output_type": "execute_result"
    }
   ],
   "source": [
    "# Cities list\n",
    "cities = []\n",
    "x = 0\n",
    "y = 50\n",
    "\n",
    "while y < 2000:\n",
    "    for i in coordinates[x:y]:\n",
    "        city = citipy.nearest_city(i[0], i[1])\n",
    "        cities.append(city.city_name)\n",
    "    time.sleep(60)\n",
    "\n",
    "cities"
   ]
  },
  {
   "cell_type": "code",
   "execution_count": 60,
   "id": "98140f33",
   "metadata": {},
   "outputs": [
    {
     "data": {
      "text/plain": [
       "50"
      ]
     },
     "execution_count": 60,
     "metadata": {},
     "output_type": "execute_result"
    }
   ],
   "source": [
    "len(cities)"
   ]
  },
  {
   "cell_type": "code",
   "execution_count": 65,
   "id": "c7ce836e",
   "metadata": {},
   "outputs": [
    {
     "data": {
      "text/plain": [
       "(42.88246075884416, 128.1275780902053)"
      ]
     },
     "execution_count": 65,
     "metadata": {},
     "output_type": "execute_result"
    }
   ],
   "source": [
    "coordinates[1999]"
   ]
  },
  {
   "cell_type": "code",
   "execution_count": 9,
   "id": "7430c684",
   "metadata": {},
   "outputs": [
    {
     "name": "stdout",
     "output_type": "stream",
     "text": [
      "tainan\n",
      "tw\n"
     ]
    }
   ],
   "source": [
    "city = citipy.nearest_city(22.99, 120.21)\n",
    "print(city.city_name)\n",
    "print(city.country_code)"
   ]
  },
  {
   "cell_type": "code",
   "execution_count": 32,
   "id": "8d6034fa",
   "metadata": {},
   "outputs": [
    {
     "data": {
      "text/plain": [
       "76.27496594386756"
      ]
     },
     "execution_count": 32,
     "metadata": {},
     "output_type": "execute_result"
    }
   ],
   "source": [
    "lati[0]"
   ]
  },
  {
   "cell_type": "code",
   "execution_count": 30,
   "id": "ff6b120f",
   "metadata": {},
   "outputs": [
    {
     "data": {
      "text/plain": [
       "76.27496594"
      ]
     },
     "execution_count": 30,
     "metadata": {},
     "output_type": "execute_result"
    }
   ],
   "source": [
    "coord = 76.27496594, 56.91862181\n",
    "coord[0]"
   ]
  },
  {
   "cell_type": "code",
   "execution_count": 34,
   "id": "5fd9ee2a",
   "metadata": {},
   "outputs": [
    {
     "data": {
      "text/plain": [
       "'belushya guba'"
      ]
     },
     "execution_count": 34,
     "metadata": {},
     "output_type": "execute_result"
    }
   ],
   "source": [
    "city = citipy.nearest_city(lati[0], longi[0])\n",
    "city.city_name"
   ]
  },
  {
   "cell_type": "code",
   "execution_count": null,
   "id": "6f1ab4aa",
   "metadata": {},
   "outputs": [],
   "source": []
  },
  {
   "cell_type": "code",
   "execution_count": null,
   "id": "a6a7b0d4",
   "metadata": {},
   "outputs": [],
   "source": []
  },
  {
   "cell_type": "code",
   "execution_count": null,
   "id": "ebe73720",
   "metadata": {},
   "outputs": [],
   "source": []
  },
  {
   "cell_type": "code",
   "execution_count": null,
   "id": "9a069163",
   "metadata": {},
   "outputs": [],
   "source": []
  },
  {
   "cell_type": "code",
   "execution_count": null,
   "id": "a1ec8c30",
   "metadata": {},
   "outputs": [],
   "source": [
    "api.openweathermap.org/data/2.5/weather?q={city name},{state code},{country code}&appid={API key}"
   ]
  },
  {
   "cell_type": "code",
   "execution_count": null,
   "id": "69537bde",
   "metadata": {},
   "outputs": [],
   "source": []
  },
  {
   "cell_type": "code",
   "execution_count": null,
   "id": "734d142d",
   "metadata": {},
   "outputs": [],
   "source": []
  },
  {
   "cell_type": "code",
   "execution_count": null,
   "id": "7f678aca",
   "metadata": {},
   "outputs": [],
   "source": []
  }
 ],
 "metadata": {
  "kernelspec": {
   "display_name": "PythonData",
   "language": "python",
   "name": "pythondata"
  },
  "language_info": {
   "codemirror_mode": {
    "name": "ipython",
    "version": 3
   },
   "file_extension": ".py",
   "mimetype": "text/x-python",
   "name": "python",
   "nbconvert_exporter": "python",
   "pygments_lexer": "ipython3",
   "version": "3.7.11"
  }
 },
 "nbformat": 4,
 "nbformat_minor": 5
}
